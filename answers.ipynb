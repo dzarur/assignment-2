{
 "cells": [
  {
   "cell_type": "markdown",
   "metadata": {},
   "source": [
    "# Assignment 2: Fundamentals of Python (30 pts)"
   ]
  },
  {
   "cell_type": "markdown",
   "metadata": {},
   "source": [
    "## Question 1: Markdown  (5 pts)\n",
    "\n",
    "Create a markdown cell below. Do the following tasks: \n",
    "\n",
    "- Display an image. (1 pt)\n",
    "- Write a caption for the image in italics. (1 pt)\n",
    "- Link a wikipedia page. (1 pt)\n",
    "- Write a bullet point list summarizing the page (don't be thorough, just want to see you make bullet points.) (1 pt)\n",
    "- Write an equation on its own line that includes a fraction and an exponent (e.g. 2 squared).\n"
   ]
  },
  {
   "cell_type": "markdown",
   "metadata": {},
   "source": [
    "![Mario](/Users/danielzarur2022/GitHub/assignment-2/purepng.com-mariomariofictional-charactervideo-gamefranchisenintendodesigner-1701528634653vywuz.png)\n",
    "\n",
    "*Mario*\n",
    "\n",
    "[Tohoku March 11, 2011 Earthquake and Tsunami Wikapedia](https://en.wikipedia.org/wiki/2011_T%C5%8Dhoku_earthquake_and_tsunami)\n",
    "* On 11 March 2011, at 14:46 JST (05:46 UTC), a Mw 9.0–9.1 undersea megathrust earthquake occurred in the Pacific Ocean\n",
    "* It lasted approximately six minutes, causing a tsunami\n",
    "* It is sometimes known in Japan as the \"Great East Japan Earthquake\"\n",
    "\n",
    "$ax^2 + bx + c = 0$"
   ]
  },
  {
   "cell_type": "markdown",
   "metadata": {},
   "source": [
    "## Question 2: Data types and variables (5 pt)\n",
    "\n",
    "\n",
    "- Create 3 variables with the values of `9`, `9.9`, and `\"9\"` (1 pt).\n",
    "- Print out the data types of each variable (1 pt).\n",
    "- Convert the 3 variable types to the same data type and then add them together to get the following values:\n",
    "  - `27` (1 pt)\n",
    "  - `27.9` (1 pt)\n",
    "  - `999.9` (1 pt)\n"
   ]
  },
  {
   "cell_type": "code",
   "execution_count": 6,
   "metadata": {},
   "outputs": [
    {
     "name": "stdout",
     "output_type": "stream",
     "text": [
      "<class 'int'>\n",
      "<class 'float'>\n",
      "<class 'str'>\n"
     ]
    }
   ],
   "source": [
    "# your answer here:\n",
    "first = 9\n",
    "second = 9.9\n",
    "third = \"9\"\n",
    "print(type(first))\n",
    "print(type(second))\n",
    "print(type(third))\n",
    "bulletOne = first+int(second)+int(third)\n",
    "bulletTwo = first+second+int(third)\n",
    "bulletThree = str(first)+str(third)+str(second)\n"
   ]
  },
  {
   "cell_type": "markdown",
   "metadata": {},
   "source": [
    "## Question 3: Data structures (5 pt)\n",
    "\n",
    "- Create a dictionary with 3 keys called `'a'`, `'b'`, and `'c'`. The value for each key should be a blank list. (1 pt)\n",
    "- Append the list associated with key `a` with a blank set. (1 pt)\n",
    "- Append the list associated with key `b` with any 4 numbers. (1 pt)\n",
    "- Change the third item in the list associated with key `b` to be `1000`. (1 pt)\n",
    "- Print out the dictionary (1 pt)"
   ]
  },
  {
   "cell_type": "code",
   "execution_count": 7,
   "metadata": {},
   "outputs": [
    {
     "name": "stdout",
     "output_type": "stream",
     "text": [
      "{'a': [set()], 'b': [0, 1, 1000, 3], 'c': []}\n"
     ]
    }
   ],
   "source": [
    "# your code here:\n",
    "firstDict = {\n",
    "    'a' : [],\n",
    "    'b' : [],\n",
    "    'c' : []\n",
    "}\n",
    "firstDict['a'].append(set())\n",
    "firstDict['b'].append(0)\n",
    "firstDict['b'].append(1)\n",
    "firstDict['b'].append(2)\n",
    "firstDict['b'].append(3)\n",
    "firstDict['b'][2]=1000\n",
    "print(firstDict)"
   ]
  },
  {
   "cell_type": "markdown",
   "metadata": {},
   "source": [
    "## Question 4: Transferring to different structure (5 pts)\n",
    "\n",
    "Some data was collected by 5 different researchers on deer population sizes. Below, this data was recorded with accompanying temperature data and dates in three lists. In each list, one researcher is associated with the same index.\n",
    "\n",
    "0. Haley McCann\n",
    "1. Siena Welch\n",
    "2. Jaylin Mercado\n",
    "3. Ismael Hayden\n",
    "4. Nina Bright\n",
    "\n",
    "Use the data across the three lists to create a dictionary storing each researcher's name and data as key:value pairs. Carefully consider how to best store the data as each value (4 pt).\n",
    "\n",
    "Retrieve the data from the lists using indexing; **do NOT** manually type the data into the dictionary. (1 pt)"
   ]
  },
  {
   "cell_type": "code",
   "execution_count": 8,
   "metadata": {},
   "outputs": [
    {
     "name": "stdout",
     "output_type": "stream",
     "text": [
      "Haley McCann 5/25/2022 temp: 29.75 population: 442\n",
      "Siena Welch 3/18/2022 temp: 12.63 population: 336\n",
      "Jaylin Mercado 6/28/2022 temp: 31.58 population: 505\n",
      "Ismael Hayden 11/11/2022 temp: 7.16 population: 913\n",
      "Nina Bright 7/6/2023 temp: 32.51 population: 933\n"
     ]
    }
   ],
   "source": [
    "# don't modify the lists\n",
    "\n",
    "temperatures = [29.75, 12.63, 31.58, 7.16, 32.51]\n",
    "\n",
    "populations = [442, 336, 505, 913, 933]\n",
    "\n",
    "dates = ['5/25/2022','3/18/2022','6/28/2022','11/11/2022','7/6/2023']\n",
    "\n",
    "# your code below:\n",
    "researchersDict= {\n",
    "    'Haley McCann' : {\n",
    "        'temperature' : temperatures[0], \n",
    "        'population' : populations[0],\n",
    "        'date' : dates[0]},\n",
    "    'Siena Welch' : { \n",
    "        'temperature' : temperatures[1],\n",
    "        'population' : populations[1], \n",
    "        'date' : dates[1]},\n",
    "    'Jaylin Mercado' : {\n",
    "        'temperature' : temperatures[2], \n",
    "        'population' : populations[2],\n",
    "        'date' : dates[2]},\n",
    "    'Ismael Hayden' : {\n",
    "        'temperature' : temperatures[3], \n",
    "        'population' : populations[3],\n",
    "        'date' : dates[3]},\n",
    "    'Nina Bright' : {\n",
    "        'temperature' : temperatures[4], \n",
    "        'population' : populations[4],\n",
    "        'date' : dates[4]},\n",
    "    }\n",
    "for each, data in researchersDict.items():\n",
    "    print(each, data['date'], \"temp:\", data['temperature'], \"population:\", data['population'])\n"
   ]
  },
  {
   "cell_type": "markdown",
   "metadata": {},
   "source": [
    "## Question 5: Booleans\n",
    "What is the value of each of the following statements? Explain why for each statement. (1 pt each)"
   ]
  },
  {
   "cell_type": "code",
   "execution_count": 4,
   "metadata": {},
   "outputs": [
    {
     "data": {
      "text/plain": [
       "0"
      ]
     },
     "execution_count": 4,
     "metadata": {},
     "output_type": "execute_result"
    }
   ],
   "source": [
    "# 1\n",
    "True and False\n",
    "#False because once it becomes False, it is false\n",
    "\n",
    "# 2\n",
    "not True or False\n",
    "#False because not true is False and first\n",
    "\n",
    "# 3\n",
    "True or False or True\n",
    "#True because True first statement is True\n",
    "\n",
    "# 4\n",
    "not (not True or not False)\n",
    "# becomes not(False or True)\n",
    "# not(True) = False\n",
    "\n",
    "# 5\n",
    "int( not(10 > 5 and 2 < 3) )\n",
    "#int(False) becomes 0\n",
    "\n"
   ]
  },
  {
   "cell_type": "markdown",
   "metadata": {},
   "source": [
    "### Answers:"
   ]
  },
  {
   "cell_type": "markdown",
   "metadata": {},
   "source": [
    "## Question 6: Conditionals (5 pt)\n",
    " \n",
    "The following converts Celsius (C) to Farhenheit (F):\n",
    "\n",
    "$$F = (C * \\frac{9}{5}) + 32 $$\n",
    "\n",
    "You can convert Celsius (C) to Kelvin with the following (K).\n",
    "\n",
    "$$K = C - 273.15$$\n",
    "\n",
    "The lowest possible value in Celsius is -273.13, also known as absolute zero.\n",
    "\n",
    "Create a variable called `cel` set to be some number. It represents temperature in degrees Celsius. (1 pt)\n",
    "\n",
    "Create another variable called `convert`. Make it have either the value `'far'` or `'kel'`. (1 pt)\n",
    "\n",
    "Write code that does the following:\n",
    "\n",
    "If `cel` is below absolute zero, print out an error. Otherwise, convert the value in `cel` to Farhenheit if `convert` is `'far'` and to Kelvin if `convert` is `'kel'`. In both cases, print out the converted value. If `convert` has any other value, print a warning message saying that `convert` is not `'kel'` or `'far'`. (3 pt)"
   ]
  },
  {
   "cell_type": "code",
   "execution_count": 12,
   "metadata": {},
   "outputs": [
    {
     "name": "stdout",
     "output_type": "stream",
     "text": [
      "46.4\n"
     ]
    }
   ],
   "source": [
    "# your code here:\n",
    "\n",
    "cel =8\n",
    "convert = 'far'\n",
    "if convert == \"far\":\n",
    "    if cel < -273.15:\n",
    "        print(\"error 400\")\n",
    "    else: \n",
    "        convert = (cel*9/5)+32\n",
    "        print (convert)\n",
    "elif convert == \"kel\":\n",
    "    if cel < -273.13:\n",
    "        print(\"error 400\")\n",
    "    else: \n",
    "        convert = cel - 273.15\n",
    "        print (convert)\n",
    "else:\n",
    "    print(\"Invalid Convert Variable: convert is not \\\"kel\\\" or \\\"far\\\"\")"
   ]
  }
 ],
 "metadata": {
  "kernelspec": {
   "display_name": "Python 3.9.12 ('base')",
   "language": "python",
   "name": "python3"
  },
  "language_info": {
   "codemirror_mode": {
    "name": "ipython",
    "version": 3
   },
   "file_extension": ".py",
   "mimetype": "text/x-python",
   "name": "python",
   "nbconvert_exporter": "python",
   "pygments_lexer": "ipython3",
   "version": "3.9.13"
  },
  "orig_nbformat": 4,
  "vscode": {
   "interpreter": {
    "hash": "b52b534d3e8b2df8a7f375ea8b488ed7c2e546a5d77230d70bd2c6badbd8c861"
   }
  }
 },
 "nbformat": 4,
 "nbformat_minor": 2
}
